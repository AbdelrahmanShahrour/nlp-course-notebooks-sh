{
 "cells": [
  {
   "cell_type": "code",
   "execution_count": 1,
   "id": "53e75f31",
   "metadata": {},
   "outputs": [],
   "source": [
    "import os\n",
    "\n",
    "from functools import partial\n",
    "\n",
    "import evaluate\n",
    "\n",
    "import numpy as np\n",
    "import pandas as pd\n",
    "\n",
    "from arabert.preprocess import ArabertPreprocessor\n",
    "from transformers import DataCollatorWithPadding, TrainingArguments, Trainer, pipeline\n",
    "from transformers import AutoTokenizer, AutoModelForSequenceClassification\n",
    "from datasets import Dataset\n",
    "from sklearn.model_selection import train_test_split\n",
    "from evaluate import evaluator, combine"
   ]
  },
  {
   "cell_type": "markdown",
   "id": "5b917784",
   "metadata": {},
   "source": [
    "# Setup Data"
   ]
  },
  {
   "cell_type": "code",
   "execution_count": 2,
   "id": "eab8ae98",
   "metadata": {},
   "outputs": [],
   "source": [
    "dataset_path = \"https://nlp-slides.vercel.app/clean-tweets.tsv\"\n",
    "   \n",
    "dataset = pd.read_csv(filepath_or_buffer=dataset_path, sep=\"\\t\")"
   ]
  },
  {
   "cell_type": "code",
   "execution_count": 3,
   "id": "5f4a39c0",
   "metadata": {},
   "outputs": [
    {
     "data": {
      "text/html": [
       "<div>\n",
       "<style scoped>\n",
       "    .dataframe tbody tr th:only-of-type {\n",
       "        vertical-align: middle;\n",
       "    }\n",
       "\n",
       "    .dataframe tbody tr th {\n",
       "        vertical-align: top;\n",
       "    }\n",
       "\n",
       "    .dataframe thead th {\n",
       "        text-align: right;\n",
       "    }\n",
       "</style>\n",
       "<table border=\"1\" class=\"dataframe\">\n",
       "  <thead>\n",
       "    <tr style=\"text-align: right;\">\n",
       "      <th></th>\n",
       "      <th>Tweet</th>\n",
       "      <th>Country</th>\n",
       "      <th>Topic</th>\n",
       "      <th>Sentiment</th>\n",
       "      <th>Sentiment_Expression</th>\n",
       "      <th>Sentiment_Target</th>\n",
       "      <th>word_count</th>\n",
       "      <th>char_count</th>\n",
       "      <th>clean_text</th>\n",
       "      <th>clean_stemmed</th>\n",
       "    </tr>\n",
       "  </thead>\n",
       "  <tbody>\n",
       "    <tr>\n",
       "      <th>0</th>\n",
       "      <td>\"أنا أؤمن بأن الانسان ينطفئ جماله عند ابتعاد م...</td>\n",
       "      <td>lebanon</td>\n",
       "      <td>personal</td>\n",
       "      <td>negative</td>\n",
       "      <td>implicit</td>\n",
       "      <td>بريق العيون</td>\n",
       "      <td>23</td>\n",
       "      <td>132</td>\n",
       "      <td>اومن بان الانسان ينطفي جماله ابتعاد يحب بريق ا...</td>\n",
       "      <td>اوم بان انس نطف جمل بعد يحب برق عين خفي صبح ذب...</td>\n",
       "    </tr>\n",
       "    <tr>\n",
       "      <th>1</th>\n",
       "      <td>من الذاكره... @3FInQe . عندما اعتقد كريستيانو ...</td>\n",
       "      <td>jordan</td>\n",
       "      <td>sports</td>\n",
       "      <td>positive</td>\n",
       "      <td>explicit</td>\n",
       "      <td>افضل لاعب في العالم</td>\n",
       "      <td>23</td>\n",
       "      <td>141</td>\n",
       "      <td>الذاكره عندما اعتقد كريستيانو انه افضل لاعب ال...</td>\n",
       "      <td>ذكر عند عقد كريستيانو انه فضل لعب علم ككا يسي ...</td>\n",
       "    </tr>\n",
       "  </tbody>\n",
       "</table>\n",
       "</div>"
      ],
      "text/plain": [
       "                                               Tweet  Country     Topic  \\\n",
       "0  \"أنا أؤمن بأن الانسان ينطفئ جماله عند ابتعاد م...  lebanon  personal   \n",
       "1  من الذاكره... @3FInQe . عندما اعتقد كريستيانو ...   jordan    sports   \n",
       "\n",
       "  Sentiment Sentiment_Expression     Sentiment_Target  word_count  char_count  \\\n",
       "0  negative             implicit          بريق العيون          23         132   \n",
       "1  positive             explicit  افضل لاعب في العالم          23         141   \n",
       "\n",
       "                                          clean_text  \\\n",
       "0  اومن بان الانسان ينطفي جماله ابتعاد يحب بريق ا...   \n",
       "1  الذاكره عندما اعتقد كريستيانو انه افضل لاعب ال...   \n",
       "\n",
       "                                       clean_stemmed  \n",
       "0  اوم بان انس نطف جمل بعد يحب برق عين خفي صبح ذب...  \n",
       "1  ذكر عند عقد كريستيانو انه فضل لعب علم ككا يسي ...  "
      ]
     },
     "execution_count": 3,
     "metadata": {},
     "output_type": "execute_result"
    }
   ],
   "source": [
    "dataset.head(n=2)"
   ]
  },
  {
   "cell_type": "code",
   "execution_count": 4,
   "id": "55f4b012",
   "metadata": {},
   "outputs": [
    {
     "data": {
      "text/html": [
       "<div>\n",
       "<style scoped>\n",
       "    .dataframe tbody tr th:only-of-type {\n",
       "        vertical-align: middle;\n",
       "    }\n",
       "\n",
       "    .dataframe tbody tr th {\n",
       "        vertical-align: top;\n",
       "    }\n",
       "\n",
       "    .dataframe thead th {\n",
       "        text-align: right;\n",
       "    }\n",
       "</style>\n",
       "<table border=\"1\" class=\"dataframe\">\n",
       "  <thead>\n",
       "    <tr style=\"text-align: right;\">\n",
       "      <th></th>\n",
       "      <th>Tweet</th>\n",
       "      <th>Sentiment</th>\n",
       "    </tr>\n",
       "  </thead>\n",
       "  <tbody>\n",
       "    <tr>\n",
       "      <th>0</th>\n",
       "      <td>\"أنا أؤمن بأن الانسان ينطفئ جماله عند ابتعاد م...</td>\n",
       "      <td>negative</td>\n",
       "    </tr>\n",
       "    <tr>\n",
       "      <th>1</th>\n",
       "      <td>من الذاكره... @3FInQe . عندما اعتقد كريستيانو ...</td>\n",
       "      <td>positive</td>\n",
       "    </tr>\n",
       "    <tr>\n",
       "      <th>2</th>\n",
       "      <td>لا نخلو من ضغوطات الحياة. فنحن نعيش على أرض أع...</td>\n",
       "      <td>neutral</td>\n",
       "    </tr>\n",
       "  </tbody>\n",
       "</table>\n",
       "</div>"
      ],
      "text/plain": [
       "                                               Tweet Sentiment\n",
       "0  \"أنا أؤمن بأن الانسان ينطفئ جماله عند ابتعاد م...  negative\n",
       "1  من الذاكره... @3FInQe . عندما اعتقد كريستيانو ...  positive\n",
       "2  لا نخلو من ضغوطات الحياة. فنحن نعيش على أرض أع...   neutral"
      ]
     },
     "execution_count": 4,
     "metadata": {},
     "output_type": "execute_result"
    }
   ],
   "source": [
    "data = dataset[[\"Tweet\", \"Sentiment\"]]\n",
    "data.head(n=3)"
   ]
  },
  {
   "cell_type": "code",
   "execution_count": 5,
   "id": "58e10ffd",
   "metadata": {},
   "outputs": [],
   "source": [
    "data = data.rename({\"Tweet\": \"text\", \"Sentiment\": \"label\"}, axis=1)"
   ]
  },
  {
   "cell_type": "code",
   "execution_count": 6,
   "id": "547c250d",
   "metadata": {},
   "outputs": [],
   "source": [
    "data[\"label\"] = data[\"label\"].replace({\"negative\": 0, \"neutral\": 1, \"positive\": 2})"
   ]
  },
  {
   "cell_type": "code",
   "execution_count": 7,
   "id": "1ae5c255",
   "metadata": {},
   "outputs": [
    {
     "data": {
      "text/html": [
       "<div>\n",
       "<style scoped>\n",
       "    .dataframe tbody tr th:only-of-type {\n",
       "        vertical-align: middle;\n",
       "    }\n",
       "\n",
       "    .dataframe tbody tr th {\n",
       "        vertical-align: top;\n",
       "    }\n",
       "\n",
       "    .dataframe thead th {\n",
       "        text-align: right;\n",
       "    }\n",
       "</style>\n",
       "<table border=\"1\" class=\"dataframe\">\n",
       "  <thead>\n",
       "    <tr style=\"text-align: right;\">\n",
       "      <th></th>\n",
       "      <th>text</th>\n",
       "      <th>label</th>\n",
       "    </tr>\n",
       "  </thead>\n",
       "  <tbody>\n",
       "    <tr>\n",
       "      <th>0</th>\n",
       "      <td>\"أنا أؤمن بأن الانسان ينطفئ جماله عند ابتعاد م...</td>\n",
       "      <td>0</td>\n",
       "    </tr>\n",
       "    <tr>\n",
       "      <th>1</th>\n",
       "      <td>من الذاكره... @3FInQe . عندما اعتقد كريستيانو ...</td>\n",
       "      <td>2</td>\n",
       "    </tr>\n",
       "    <tr>\n",
       "      <th>2</th>\n",
       "      <td>لا نخلو من ضغوطات الحياة. فنحن نعيش على أرض أع...</td>\n",
       "      <td>1</td>\n",
       "    </tr>\n",
       "    <tr>\n",
       "      <th>3</th>\n",
       "      <td>#مصطلحات_لبنانيه_حيرت_البشريه بتوصل عالبيت ، ب...</td>\n",
       "      <td>0</td>\n",
       "    </tr>\n",
       "    <tr>\n",
       "      <th>4</th>\n",
       "      <td>نصمت !! لتسير حياتنا على مً يرام فالناّس لم تع...</td>\n",
       "      <td>0</td>\n",
       "    </tr>\n",
       "    <tr>\n",
       "      <th>...</th>\n",
       "      <td>...</td>\n",
       "      <td>...</td>\n",
       "    </tr>\n",
       "    <tr>\n",
       "      <th>3995</th>\n",
       "      <td>صلاح من لاعب في المقاولون العرب يحلم ان يلعب ل...</td>\n",
       "      <td>2</td>\n",
       "    </tr>\n",
       "    <tr>\n",
       "      <th>3996</th>\n",
       "      <td>الملك سلمان بن عبد العزيز: تطبيق الأنظمة بحزم ...</td>\n",
       "      <td>2</td>\n",
       "    </tr>\n",
       "    <tr>\n",
       "      <th>3997</th>\n",
       "      <td>@ZahraaIraq9 😂 كل ما ادخل حسابي الكه تغريداتج ...</td>\n",
       "      <td>0</td>\n",
       "    </tr>\n",
       "    <tr>\n",
       "      <th>3998</th>\n",
       "      <td>شو هالشعب نحنا اللي عايش بلا مي وكهربا والزبال...</td>\n",
       "      <td>0</td>\n",
       "    </tr>\n",
       "    <tr>\n",
       "      <th>3999</th>\n",
       "      <td>ترقبوا نقلاً مباشراً في نشرة أخبار الرياضية 8:...</td>\n",
       "      <td>1</td>\n",
       "    </tr>\n",
       "  </tbody>\n",
       "</table>\n",
       "<p>4000 rows × 2 columns</p>\n",
       "</div>"
      ],
      "text/plain": [
       "                                                   text  label\n",
       "0     \"أنا أؤمن بأن الانسان ينطفئ جماله عند ابتعاد م...      0\n",
       "1     من الذاكره... @3FInQe . عندما اعتقد كريستيانو ...      2\n",
       "2     لا نخلو من ضغوطات الحياة. فنحن نعيش على أرض أع...      1\n",
       "3     #مصطلحات_لبنانيه_حيرت_البشريه بتوصل عالبيت ، ب...      0\n",
       "4     نصمت !! لتسير حياتنا على مً يرام فالناّس لم تع...      0\n",
       "...                                                 ...    ...\n",
       "3995  صلاح من لاعب في المقاولون العرب يحلم ان يلعب ل...      2\n",
       "3996  الملك سلمان بن عبد العزيز: تطبيق الأنظمة بحزم ...      2\n",
       "3997  @ZahraaIraq9 😂 كل ما ادخل حسابي الكه تغريداتج ...      0\n",
       "3998  شو هالشعب نحنا اللي عايش بلا مي وكهربا والزبال...      0\n",
       "3999  ترقبوا نقلاً مباشراً في نشرة أخبار الرياضية 8:...      1\n",
       "\n",
       "[4000 rows x 2 columns]"
      ]
     },
     "execution_count": 7,
     "metadata": {},
     "output_type": "execute_result"
    }
   ],
   "source": [
    "data"
   ]
  },
  {
   "cell_type": "code",
   "execution_count": 8,
   "id": "e0bad5bd",
   "metadata": {},
   "outputs": [
    {
     "data": {
      "text/plain": [
       "0    1883\n",
       "2    1232\n",
       "1     885\n",
       "Name: label, dtype: int64"
      ]
     },
     "execution_count": 8,
     "metadata": {},
     "output_type": "execute_result"
    }
   ],
   "source": [
    "data[\"label\"].value_counts()"
   ]
  },
  {
   "cell_type": "markdown",
   "id": "2c715196",
   "metadata": {},
   "source": [
    "# Setup Model"
   ]
  },
  {
   "cell_type": "code",
   "execution_count": 9,
   "id": "d864a756",
   "metadata": {},
   "outputs": [],
   "source": [
    "model_name=\"aubmindlab/bert-base-arabertv02-twitter\""
   ]
  },
  {
   "cell_type": "markdown",
   "id": "f24ddfd5",
   "metadata": {},
   "source": [
    "## Preprocess Data for Model"
   ]
  },
  {
   "cell_type": "code",
   "execution_count": 10,
   "id": "dc2e4f2a",
   "metadata": {},
   "outputs": [],
   "source": [
    "arabert_prep = ArabertPreprocessor(model_name=model_name)"
   ]
  },
  {
   "cell_type": "code",
   "execution_count": 11,
   "id": "52cca3ce",
   "metadata": {},
   "outputs": [
    {
     "data": {
      "text/plain": [
       "'@ZahraaIraq9 😂 كل ما ادخل حسابي الكه تغريداتج عن حب العراق وانتي هسه اذا ينطوج جنسيه مال غير دوله و يجيج واتب كل را… https://t.co/MqZmtiTcil'"
      ]
     },
     "execution_count": 11,
     "metadata": {},
     "output_type": "execute_result"
    }
   ],
   "source": [
    "sample = dataset.loc[3997, 'Tweet']\n",
    "sample"
   ]
  },
  {
   "cell_type": "code",
   "execution_count": 12,
   "id": "a315286c",
   "metadata": {},
   "outputs": [
    {
     "data": {
      "text/plain": [
       "'[مستخدم] 😂 كل ما ادخل حسابي الكه تغريداتج عن حب العراق وانتي هسه اذا ينطوج جنسيه مال غير دوله و يجيج واتب كل را … [رابط]'"
      ]
     },
     "execution_count": 12,
     "metadata": {},
     "output_type": "execute_result"
    }
   ],
   "source": [
    "arabert_prep.preprocess(sample)"
   ]
  },
  {
   "cell_type": "code",
   "execution_count": 13,
   "id": "5be859d7",
   "metadata": {},
   "outputs": [],
   "source": [
    "data[\"text\"] = data[\"text\"].apply(arabert_prep.preprocess)"
   ]
  },
  {
   "cell_type": "code",
   "execution_count": 14,
   "id": "19b0c03e",
   "metadata": {},
   "outputs": [
    {
     "data": {
      "text/html": [
       "<div>\n",
       "<style scoped>\n",
       "    .dataframe tbody tr th:only-of-type {\n",
       "        vertical-align: middle;\n",
       "    }\n",
       "\n",
       "    .dataframe tbody tr th {\n",
       "        vertical-align: top;\n",
       "    }\n",
       "\n",
       "    .dataframe thead th {\n",
       "        text-align: right;\n",
       "    }\n",
       "</style>\n",
       "<table border=\"1\" class=\"dataframe\">\n",
       "  <thead>\n",
       "    <tr style=\"text-align: right;\">\n",
       "      <th></th>\n",
       "      <th>text</th>\n",
       "      <th>label</th>\n",
       "    </tr>\n",
       "  </thead>\n",
       "  <tbody>\n",
       "    <tr>\n",
       "      <th>0</th>\n",
       "      <td>\" أنا أؤمن بأن الانسان ينطفئ جماله عند ابتعاد ...</td>\n",
       "      <td>0</td>\n",
       "    </tr>\n",
       "    <tr>\n",
       "      <th>1</th>\n",
       "      <td>من الذاكره . . [مستخدم] . عندما اعتقد كريستيان...</td>\n",
       "      <td>2</td>\n",
       "    </tr>\n",
       "  </tbody>\n",
       "</table>\n",
       "</div>"
      ],
      "text/plain": [
       "                                                text  label\n",
       "0  \" أنا أؤمن بأن الانسان ينطفئ جماله عند ابتعاد ...      0\n",
       "1  من الذاكره . . [مستخدم] . عندما اعتقد كريستيان...      2"
      ]
     },
     "execution_count": 14,
     "metadata": {},
     "output_type": "execute_result"
    }
   ],
   "source": [
    "data.head(n=2)"
   ]
  },
  {
   "cell_type": "code",
   "execution_count": 15,
   "id": "fdf6f87b",
   "metadata": {},
   "outputs": [],
   "source": [
    "train_data, validation_data = train_test_split(data, stratify=data[\"label\"].tolist())"
   ]
  },
  {
   "cell_type": "code",
   "execution_count": 16,
   "id": "45bf97ad",
   "metadata": {},
   "outputs": [],
   "source": [
    "train_dataset = Dataset.from_pandas(df=train_data, preserve_index=False)\n",
    "val_dataset = Dataset.from_pandas(df=validation_data, preserve_index=False)"
   ]
  },
  {
   "cell_type": "code",
   "execution_count": 17,
   "id": "5494c76a",
   "metadata": {},
   "outputs": [
    {
     "data": {
      "text/plain": [
       "(Dataset({\n",
       "     features: ['text', 'label'],\n",
       "     num_rows: 3000\n",
       " }),\n",
       " Dataset({\n",
       "     features: ['text', 'label'],\n",
       "     num_rows: 1000\n",
       " }))"
      ]
     },
     "execution_count": 17,
     "metadata": {},
     "output_type": "execute_result"
    }
   ],
   "source": [
    "train_dataset, val_dataset"
   ]
  },
  {
   "cell_type": "markdown",
   "id": "9e63b6ad",
   "metadata": {},
   "source": [
    "## Tokenizer"
   ]
  },
  {
   "cell_type": "code",
   "execution_count": 18,
   "id": "ff60aea3",
   "metadata": {},
   "outputs": [],
   "source": [
    "tokenizer = AutoTokenizer.from_pretrained(pretrained_model_name_or_path=model_name)"
   ]
  },
  {
   "cell_type": "code",
   "execution_count": 19,
   "id": "7df9f160",
   "metadata": {},
   "outputs": [
    {
     "data": {
      "text/plain": [
       "PreTrainedTokenizerFast(name_or_path='aubmindlab/bert-base-arabertv02-twitter', vocab_size=64000, model_max_len=512, is_fast=True, padding_side='right', truncation_side='right', special_tokens={'unk_token': '[UNK]', 'sep_token': '[SEP]', 'pad_token': '[PAD]', 'cls_token': '[CLS]', 'mask_token': '[MASK]'})"
      ]
     },
     "execution_count": 19,
     "metadata": {},
     "output_type": "execute_result"
    }
   ],
   "source": [
    "tokenizer"
   ]
  },
  {
   "cell_type": "code",
   "execution_count": 20,
   "id": "37c5f273",
   "metadata": {},
   "outputs": [],
   "source": [
    "def preprocess_function(examples):\n",
    "    return tokenizer(examples[\"text\"], truncation=True)"
   ]
  },
  {
   "cell_type": "code",
   "execution_count": 21,
   "id": "1e9a2334",
   "metadata": {},
   "outputs": [
    {
     "data": {
      "application/vnd.jupyter.widget-view+json": {
       "model_id": "56ee813bd8f446389c609be70862e544",
       "version_major": 2,
       "version_minor": 0
      },
      "text/plain": [
       "  0%|          | 0/3 [00:00<?, ?ba/s]"
      ]
     },
     "metadata": {},
     "output_type": "display_data"
    },
    {
     "data": {
      "application/vnd.jupyter.widget-view+json": {
       "model_id": "2bbd0ba24d4e42a2b3c73e8fa8026dfd",
       "version_major": 2,
       "version_minor": 0
      },
      "text/plain": [
       "  0%|          | 0/1 [00:00<?, ?ba/s]"
      ]
     },
     "metadata": {},
     "output_type": "display_data"
    }
   ],
   "source": [
    "train_data = train_dataset.map(preprocess_function, batched=True)\n",
    "val_data = val_dataset.map(preprocess_function, batched=True)"
   ]
  },
  {
   "cell_type": "markdown",
   "id": "34ff6925",
   "metadata": {},
   "source": [
    "## Model"
   ]
  },
  {
   "cell_type": "code",
   "execution_count": 22,
   "id": "bf9db50a",
   "metadata": {},
   "outputs": [
    {
     "name": "stderr",
     "output_type": "stream",
     "text": [
      "Some weights of the model checkpoint at aubmindlab/bert-base-arabertv02-twitter were not used when initializing BertForSequenceClassification: ['cls.predictions.transform.dense.bias', 'cls.predictions.transform.LayerNorm.bias', 'cls.predictions.transform.LayerNorm.weight', 'cls.predictions.transform.dense.weight', 'cls.predictions.decoder.weight', 'cls.predictions.bias', 'cls.predictions.decoder.bias']\n",
      "- This IS expected if you are initializing BertForSequenceClassification from the checkpoint of a model trained on another task or with another architecture (e.g. initializing a BertForSequenceClassification model from a BertForPreTraining model).\n",
      "- This IS NOT expected if you are initializing BertForSequenceClassification from the checkpoint of a model that you expect to be exactly identical (initializing a BertForSequenceClassification model from a BertForSequenceClassification model).\n",
      "Some weights of BertForSequenceClassification were not initialized from the model checkpoint at aubmindlab/bert-base-arabertv02-twitter and are newly initialized: ['bert.pooler.dense.bias', 'classifier.weight', 'bert.pooler.dense.weight', 'classifier.bias']\n",
      "You should probably TRAIN this model on a down-stream task to be able to use it for predictions and inference.\n"
     ]
    }
   ],
   "source": [
    "model = AutoModelForSequenceClassification.from_pretrained(model_name, num_labels=3)"
   ]
  },
  {
   "cell_type": "code",
   "execution_count": 23,
   "id": "e2c21ca3",
   "metadata": {},
   "outputs": [],
   "source": [
    "# Use DataCollatorWithPadding to pad tokens and prepare batches\n",
    "data_collator = DataCollatorWithPadding(tokenizer=tokenizer)"
   ]
  },
  {
   "cell_type": "markdown",
   "id": "f171baed",
   "metadata": {},
   "source": [
    "# Metrics"
   ]
  },
  {
   "cell_type": "code",
   "execution_count": 24,
   "id": "049ac9c6",
   "metadata": {},
   "outputs": [],
   "source": [
    "f1 = evaluate.load(\"f1\")"
   ]
  },
  {
   "cell_type": "code",
   "execution_count": 25,
   "id": "8b8e446b",
   "metadata": {},
   "outputs": [],
   "source": [
    "def compute_metrics(eval_pred: np.ndarray, metric: evaluate.Metric):\n",
    "    logits, labels = eval_pred\n",
    "    predictions = np.argmax(logits, axis=-1)\n",
    "    return metric.compute(predictions=predictions, references=labels, average=\"weighted\")\n",
    "\n",
    "compute_metrics_fn = partial(compute_metrics, metric=f1)"
   ]
  },
  {
   "cell_type": "markdown",
   "id": "12317eab",
   "metadata": {},
   "source": [
    "# Training"
   ]
  },
  {
   "cell_type": "markdown",
   "id": "261295af",
   "metadata": {},
   "source": [
    "## Training Args"
   ]
  },
  {
   "cell_type": "code",
   "execution_count": 26,
   "id": "5f79b309",
   "metadata": {},
   "outputs": [],
   "source": [
    "training_args = TrainingArguments(\n",
    "    output_dir=os.path.join(os.curdir, \"data\"),\n",
    "    overwrite_output_dir=True,\n",
    "    learning_rate=2e-5,\n",
    "    per_device_train_batch_size=32,\n",
    "    per_device_eval_batch_size=32,\n",
    "    num_train_epochs=10,\n",
    "    weight_decay=0.01,\n",
    "    eval_steps=50,\n",
    "    logging_strategy=\"steps\",\n",
    "    logging_steps=50, \n",
    "    evaluation_strategy=\"steps\",\n",
    "    metric_for_best_model=\"eval_f1\",\n",
    "    greater_is_better=True,\n",
    "    load_best_model_at_end=True,\n",
    "    save_steps=50,\n",
    "    save_total_limit=1\n",
    ")"
   ]
  },
  {
   "cell_type": "markdown",
   "id": "c5c3333c",
   "metadata": {},
   "source": [
    "## Trainer"
   ]
  },
  {
   "cell_type": "code",
   "execution_count": 27,
   "id": "f872ec6b",
   "metadata": {},
   "outputs": [],
   "source": [
    "trainer = Trainer(\n",
    "    model=model,\n",
    "    args=training_args,\n",
    "    train_dataset=train_data,\n",
    "    eval_dataset=val_data,\n",
    "    tokenizer=tokenizer,\n",
    "    data_collator=data_collator,\n",
    "    compute_metrics=compute_metrics_fn\n",
    ")"
   ]
  },
  {
   "cell_type": "markdown",
   "id": "0dafc07a",
   "metadata": {},
   "source": [
    "## Train Model"
   ]
  },
  {
   "cell_type": "code",
   "execution_count": 28,
   "id": "dfc39469",
   "metadata": {},
   "outputs": [
    {
     "name": "stderr",
     "output_type": "stream",
     "text": [
      "The following columns in the training set don't have a corresponding argument in `BertForSequenceClassification.forward` and have been ignored: text. If text are not expected by `BertForSequenceClassification.forward`,  you can safely ignore this message.\n",
      "/home/yazansh/shai/nlp-course-notebooks/venv/lib/python3.10/site-packages/transformers/optimization.py:306: FutureWarning: This implementation of AdamW is deprecated and will be removed in a future version. Use the PyTorch implementation torch.optim.AdamW instead, or set `no_deprecation_warning=True` to disable this warning\n",
      "  warnings.warn(\n",
      "***** Running training *****\n",
      "  Num examples = 3000\n",
      "  Num Epochs = 10\n",
      "  Instantaneous batch size per device = 32\n",
      "  Total train batch size (w. parallel, distributed & accumulation) = 32\n",
      "  Gradient Accumulation steps = 1\n",
      "  Total optimization steps = 940\n",
      "  Number of trainable parameters = 135195651\n",
      "You're using a BertTokenizerFast tokenizer. Please note that with a fast tokenizer, using the `__call__` method is faster than using a method to encode the text followed by a call to the `pad` method to get a padded encoding.\n"
     ]
    },
    {
     "data": {
      "text/html": [
       "\n",
       "    <div>\n",
       "      \n",
       "      <progress value='940' max='940' style='width:300px; height:20px; vertical-align: middle;'></progress>\n",
       "      [940/940 04:18, Epoch 10/10]\n",
       "    </div>\n",
       "    <table border=\"1\" class=\"dataframe\">\n",
       "  <thead>\n",
       " <tr style=\"text-align: left;\">\n",
       "      <th>Step</th>\n",
       "      <th>Training Loss</th>\n",
       "      <th>Validation Loss</th>\n",
       "      <th>F1</th>\n",
       "    </tr>\n",
       "  </thead>\n",
       "  <tbody>\n",
       "    <tr>\n",
       "      <td>50</td>\n",
       "      <td>0.865000</td>\n",
       "      <td>0.680612</td>\n",
       "      <td>0.721337</td>\n",
       "    </tr>\n",
       "    <tr>\n",
       "      <td>100</td>\n",
       "      <td>0.615000</td>\n",
       "      <td>0.536201</td>\n",
       "      <td>0.791496</td>\n",
       "    </tr>\n",
       "    <tr>\n",
       "      <td>150</td>\n",
       "      <td>0.452900</td>\n",
       "      <td>0.533914</td>\n",
       "      <td>0.796555</td>\n",
       "    </tr>\n",
       "    <tr>\n",
       "      <td>200</td>\n",
       "      <td>0.379000</td>\n",
       "      <td>0.519856</td>\n",
       "      <td>0.812192</td>\n",
       "    </tr>\n",
       "    <tr>\n",
       "      <td>250</td>\n",
       "      <td>0.288600</td>\n",
       "      <td>0.562367</td>\n",
       "      <td>0.802992</td>\n",
       "    </tr>\n",
       "    <tr>\n",
       "      <td>300</td>\n",
       "      <td>0.276200</td>\n",
       "      <td>0.575765</td>\n",
       "      <td>0.810857</td>\n",
       "    </tr>\n",
       "    <tr>\n",
       "      <td>350</td>\n",
       "      <td>0.223400</td>\n",
       "      <td>0.621137</td>\n",
       "      <td>0.806009</td>\n",
       "    </tr>\n",
       "    <tr>\n",
       "      <td>400</td>\n",
       "      <td>0.232000</td>\n",
       "      <td>0.605137</td>\n",
       "      <td>0.802674</td>\n",
       "    </tr>\n",
       "    <tr>\n",
       "      <td>450</td>\n",
       "      <td>0.199100</td>\n",
       "      <td>0.622573</td>\n",
       "      <td>0.802703</td>\n",
       "    </tr>\n",
       "    <tr>\n",
       "      <td>500</td>\n",
       "      <td>0.166400</td>\n",
       "      <td>0.667783</td>\n",
       "      <td>0.806869</td>\n",
       "    </tr>\n",
       "    <tr>\n",
       "      <td>550</td>\n",
       "      <td>0.152000</td>\n",
       "      <td>0.703074</td>\n",
       "      <td>0.800060</td>\n",
       "    </tr>\n",
       "    <tr>\n",
       "      <td>600</td>\n",
       "      <td>0.153400</td>\n",
       "      <td>0.729219</td>\n",
       "      <td>0.798091</td>\n",
       "    </tr>\n",
       "    <tr>\n",
       "      <td>650</td>\n",
       "      <td>0.150500</td>\n",
       "      <td>0.717918</td>\n",
       "      <td>0.792477</td>\n",
       "    </tr>\n",
       "    <tr>\n",
       "      <td>700</td>\n",
       "      <td>0.112900</td>\n",
       "      <td>0.762913</td>\n",
       "      <td>0.794857</td>\n",
       "    </tr>\n",
       "    <tr>\n",
       "      <td>750</td>\n",
       "      <td>0.150500</td>\n",
       "      <td>0.774134</td>\n",
       "      <td>0.794542</td>\n",
       "    </tr>\n",
       "    <tr>\n",
       "      <td>800</td>\n",
       "      <td>0.118300</td>\n",
       "      <td>0.785116</td>\n",
       "      <td>0.794274</td>\n",
       "    </tr>\n",
       "    <tr>\n",
       "      <td>850</td>\n",
       "      <td>0.118800</td>\n",
       "      <td>0.771851</td>\n",
       "      <td>0.800314</td>\n",
       "    </tr>\n",
       "    <tr>\n",
       "      <td>900</td>\n",
       "      <td>0.095800</td>\n",
       "      <td>0.779012</td>\n",
       "      <td>0.795577</td>\n",
       "    </tr>\n",
       "  </tbody>\n",
       "</table><p>"
      ],
      "text/plain": [
       "<IPython.core.display.HTML object>"
      ]
     },
     "metadata": {},
     "output_type": "display_data"
    },
    {
     "name": "stderr",
     "output_type": "stream",
     "text": [
      "The following columns in the evaluation set don't have a corresponding argument in `BertForSequenceClassification.forward` and have been ignored: text. If text are not expected by `BertForSequenceClassification.forward`,  you can safely ignore this message.\n",
      "***** Running Evaluation *****\n",
      "  Num examples = 1000\n",
      "  Batch size = 32\n",
      "Saving model checkpoint to ./data/checkpoint-50\n",
      "Configuration saved in ./data/checkpoint-50/config.json\n",
      "Model weights saved in ./data/checkpoint-50/pytorch_model.bin\n",
      "tokenizer config file saved in ./data/checkpoint-50/tokenizer_config.json\n",
      "Special tokens file saved in ./data/checkpoint-50/special_tokens_map.json\n",
      "The following columns in the evaluation set don't have a corresponding argument in `BertForSequenceClassification.forward` and have been ignored: text. If text are not expected by `BertForSequenceClassification.forward`,  you can safely ignore this message.\n",
      "***** Running Evaluation *****\n",
      "  Num examples = 1000\n",
      "  Batch size = 32\n",
      "Saving model checkpoint to ./data/checkpoint-100\n",
      "Configuration saved in ./data/checkpoint-100/config.json\n",
      "Model weights saved in ./data/checkpoint-100/pytorch_model.bin\n",
      "tokenizer config file saved in ./data/checkpoint-100/tokenizer_config.json\n",
      "Special tokens file saved in ./data/checkpoint-100/special_tokens_map.json\n",
      "The following columns in the evaluation set don't have a corresponding argument in `BertForSequenceClassification.forward` and have been ignored: text. If text are not expected by `BertForSequenceClassification.forward`,  you can safely ignore this message.\n",
      "***** Running Evaluation *****\n",
      "  Num examples = 1000\n",
      "  Batch size = 32\n",
      "Saving model checkpoint to ./data/checkpoint-150\n",
      "Configuration saved in ./data/checkpoint-150/config.json\n",
      "Model weights saved in ./data/checkpoint-150/pytorch_model.bin\n",
      "tokenizer config file saved in ./data/checkpoint-150/tokenizer_config.json\n",
      "Special tokens file saved in ./data/checkpoint-150/special_tokens_map.json\n",
      "Deleting older checkpoint [data/checkpoint-50] due to args.save_total_limit\n",
      "The following columns in the evaluation set don't have a corresponding argument in `BertForSequenceClassification.forward` and have been ignored: text. If text are not expected by `BertForSequenceClassification.forward`,  you can safely ignore this message.\n",
      "***** Running Evaluation *****\n",
      "  Num examples = 1000\n",
      "  Batch size = 32\n",
      "Saving model checkpoint to ./data/checkpoint-200\n",
      "Configuration saved in ./data/checkpoint-200/config.json\n",
      "Model weights saved in ./data/checkpoint-200/pytorch_model.bin\n",
      "tokenizer config file saved in ./data/checkpoint-200/tokenizer_config.json\n",
      "Special tokens file saved in ./data/checkpoint-200/special_tokens_map.json\n",
      "Deleting older checkpoint [data/checkpoint-100] due to args.save_total_limit\n",
      "The following columns in the evaluation set don't have a corresponding argument in `BertForSequenceClassification.forward` and have been ignored: text. If text are not expected by `BertForSequenceClassification.forward`,  you can safely ignore this message.\n",
      "***** Running Evaluation *****\n",
      "  Num examples = 1000\n",
      "  Batch size = 32\n",
      "Saving model checkpoint to ./data/checkpoint-250\n",
      "Configuration saved in ./data/checkpoint-250/config.json\n",
      "Model weights saved in ./data/checkpoint-250/pytorch_model.bin\n",
      "tokenizer config file saved in ./data/checkpoint-250/tokenizer_config.json\n",
      "Special tokens file saved in ./data/checkpoint-250/special_tokens_map.json\n",
      "Deleting older checkpoint [data/checkpoint-150] due to args.save_total_limit\n",
      "The following columns in the evaluation set don't have a corresponding argument in `BertForSequenceClassification.forward` and have been ignored: text. If text are not expected by `BertForSequenceClassification.forward`,  you can safely ignore this message.\n",
      "***** Running Evaluation *****\n",
      "  Num examples = 1000\n",
      "  Batch size = 32\n",
      "Saving model checkpoint to ./data/checkpoint-300\n",
      "Configuration saved in ./data/checkpoint-300/config.json\n",
      "Model weights saved in ./data/checkpoint-300/pytorch_model.bin\n",
      "tokenizer config file saved in ./data/checkpoint-300/tokenizer_config.json\n",
      "Special tokens file saved in ./data/checkpoint-300/special_tokens_map.json\n",
      "Deleting older checkpoint [data/checkpoint-250] due to args.save_total_limit\n",
      "The following columns in the evaluation set don't have a corresponding argument in `BertForSequenceClassification.forward` and have been ignored: text. If text are not expected by `BertForSequenceClassification.forward`,  you can safely ignore this message.\n",
      "***** Running Evaluation *****\n",
      "  Num examples = 1000\n",
      "  Batch size = 32\n",
      "Saving model checkpoint to ./data/checkpoint-350\n",
      "Configuration saved in ./data/checkpoint-350/config.json\n",
      "Model weights saved in ./data/checkpoint-350/pytorch_model.bin\n",
      "tokenizer config file saved in ./data/checkpoint-350/tokenizer_config.json\n",
      "Special tokens file saved in ./data/checkpoint-350/special_tokens_map.json\n",
      "Deleting older checkpoint [data/checkpoint-300] due to args.save_total_limit\n",
      "The following columns in the evaluation set don't have a corresponding argument in `BertForSequenceClassification.forward` and have been ignored: text. If text are not expected by `BertForSequenceClassification.forward`,  you can safely ignore this message.\n",
      "***** Running Evaluation *****\n",
      "  Num examples = 1000\n",
      "  Batch size = 32\n",
      "Saving model checkpoint to ./data/checkpoint-400\n",
      "Configuration saved in ./data/checkpoint-400/config.json\n",
      "Model weights saved in ./data/checkpoint-400/pytorch_model.bin\n",
      "tokenizer config file saved in ./data/checkpoint-400/tokenizer_config.json\n",
      "Special tokens file saved in ./data/checkpoint-400/special_tokens_map.json\n",
      "Deleting older checkpoint [data/checkpoint-350] due to args.save_total_limit\n",
      "The following columns in the evaluation set don't have a corresponding argument in `BertForSequenceClassification.forward` and have been ignored: text. If text are not expected by `BertForSequenceClassification.forward`,  you can safely ignore this message.\n",
      "***** Running Evaluation *****\n",
      "  Num examples = 1000\n",
      "  Batch size = 32\n",
      "Saving model checkpoint to ./data/checkpoint-450\n",
      "Configuration saved in ./data/checkpoint-450/config.json\n",
      "Model weights saved in ./data/checkpoint-450/pytorch_model.bin\n",
      "tokenizer config file saved in ./data/checkpoint-450/tokenizer_config.json\n",
      "Special tokens file saved in ./data/checkpoint-450/special_tokens_map.json\n",
      "Deleting older checkpoint [data/checkpoint-400] due to args.save_total_limit\n",
      "The following columns in the evaluation set don't have a corresponding argument in `BertForSequenceClassification.forward` and have been ignored: text. If text are not expected by `BertForSequenceClassification.forward`,  you can safely ignore this message.\n",
      "***** Running Evaluation *****\n",
      "  Num examples = 1000\n",
      "  Batch size = 32\n",
      "Saving model checkpoint to ./data/checkpoint-500\n",
      "Configuration saved in ./data/checkpoint-500/config.json\n",
      "Model weights saved in ./data/checkpoint-500/pytorch_model.bin\n",
      "tokenizer config file saved in ./data/checkpoint-500/tokenizer_config.json\n",
      "Special tokens file saved in ./data/checkpoint-500/special_tokens_map.json\n",
      "Deleting older checkpoint [data/checkpoint-450] due to args.save_total_limit\n",
      "The following columns in the evaluation set don't have a corresponding argument in `BertForSequenceClassification.forward` and have been ignored: text. If text are not expected by `BertForSequenceClassification.forward`,  you can safely ignore this message.\n",
      "***** Running Evaluation *****\n",
      "  Num examples = 1000\n",
      "  Batch size = 32\n",
      "Saving model checkpoint to ./data/checkpoint-550\n",
      "Configuration saved in ./data/checkpoint-550/config.json\n",
      "Model weights saved in ./data/checkpoint-550/pytorch_model.bin\n",
      "tokenizer config file saved in ./data/checkpoint-550/tokenizer_config.json\n",
      "Special tokens file saved in ./data/checkpoint-550/special_tokens_map.json\n",
      "Deleting older checkpoint [data/checkpoint-500] due to args.save_total_limit\n",
      "The following columns in the evaluation set don't have a corresponding argument in `BertForSequenceClassification.forward` and have been ignored: text. If text are not expected by `BertForSequenceClassification.forward`,  you can safely ignore this message.\n",
      "***** Running Evaluation *****\n",
      "  Num examples = 1000\n",
      "  Batch size = 32\n",
      "Saving model checkpoint to ./data/checkpoint-600\n"
     ]
    },
    {
     "name": "stderr",
     "output_type": "stream",
     "text": [
      "Configuration saved in ./data/checkpoint-600/config.json\n",
      "Model weights saved in ./data/checkpoint-600/pytorch_model.bin\n",
      "tokenizer config file saved in ./data/checkpoint-600/tokenizer_config.json\n",
      "Special tokens file saved in ./data/checkpoint-600/special_tokens_map.json\n",
      "Deleting older checkpoint [data/checkpoint-550] due to args.save_total_limit\n",
      "The following columns in the evaluation set don't have a corresponding argument in `BertForSequenceClassification.forward` and have been ignored: text. If text are not expected by `BertForSequenceClassification.forward`,  you can safely ignore this message.\n",
      "***** Running Evaluation *****\n",
      "  Num examples = 1000\n",
      "  Batch size = 32\n",
      "Saving model checkpoint to ./data/checkpoint-650\n",
      "Configuration saved in ./data/checkpoint-650/config.json\n",
      "Model weights saved in ./data/checkpoint-650/pytorch_model.bin\n",
      "tokenizer config file saved in ./data/checkpoint-650/tokenizer_config.json\n",
      "Special tokens file saved in ./data/checkpoint-650/special_tokens_map.json\n",
      "Deleting older checkpoint [data/checkpoint-600] due to args.save_total_limit\n",
      "The following columns in the evaluation set don't have a corresponding argument in `BertForSequenceClassification.forward` and have been ignored: text. If text are not expected by `BertForSequenceClassification.forward`,  you can safely ignore this message.\n",
      "***** Running Evaluation *****\n",
      "  Num examples = 1000\n",
      "  Batch size = 32\n",
      "Saving model checkpoint to ./data/checkpoint-700\n",
      "Configuration saved in ./data/checkpoint-700/config.json\n",
      "Model weights saved in ./data/checkpoint-700/pytorch_model.bin\n",
      "tokenizer config file saved in ./data/checkpoint-700/tokenizer_config.json\n",
      "Special tokens file saved in ./data/checkpoint-700/special_tokens_map.json\n",
      "Deleting older checkpoint [data/checkpoint-650] due to args.save_total_limit\n",
      "The following columns in the evaluation set don't have a corresponding argument in `BertForSequenceClassification.forward` and have been ignored: text. If text are not expected by `BertForSequenceClassification.forward`,  you can safely ignore this message.\n",
      "***** Running Evaluation *****\n",
      "  Num examples = 1000\n",
      "  Batch size = 32\n",
      "Saving model checkpoint to ./data/checkpoint-750\n",
      "Configuration saved in ./data/checkpoint-750/config.json\n",
      "Model weights saved in ./data/checkpoint-750/pytorch_model.bin\n",
      "tokenizer config file saved in ./data/checkpoint-750/tokenizer_config.json\n",
      "Special tokens file saved in ./data/checkpoint-750/special_tokens_map.json\n",
      "Deleting older checkpoint [data/checkpoint-700] due to args.save_total_limit\n",
      "The following columns in the evaluation set don't have a corresponding argument in `BertForSequenceClassification.forward` and have been ignored: text. If text are not expected by `BertForSequenceClassification.forward`,  you can safely ignore this message.\n",
      "***** Running Evaluation *****\n",
      "  Num examples = 1000\n",
      "  Batch size = 32\n",
      "Saving model checkpoint to ./data/checkpoint-800\n",
      "Configuration saved in ./data/checkpoint-800/config.json\n",
      "Model weights saved in ./data/checkpoint-800/pytorch_model.bin\n",
      "tokenizer config file saved in ./data/checkpoint-800/tokenizer_config.json\n",
      "Special tokens file saved in ./data/checkpoint-800/special_tokens_map.json\n",
      "Deleting older checkpoint [data/checkpoint-750] due to args.save_total_limit\n",
      "The following columns in the evaluation set don't have a corresponding argument in `BertForSequenceClassification.forward` and have been ignored: text. If text are not expected by `BertForSequenceClassification.forward`,  you can safely ignore this message.\n",
      "***** Running Evaluation *****\n",
      "  Num examples = 1000\n",
      "  Batch size = 32\n",
      "Saving model checkpoint to ./data/checkpoint-850\n",
      "Configuration saved in ./data/checkpoint-850/config.json\n",
      "Model weights saved in ./data/checkpoint-850/pytorch_model.bin\n",
      "tokenizer config file saved in ./data/checkpoint-850/tokenizer_config.json\n",
      "Special tokens file saved in ./data/checkpoint-850/special_tokens_map.json\n",
      "Deleting older checkpoint [data/checkpoint-800] due to args.save_total_limit\n",
      "The following columns in the evaluation set don't have a corresponding argument in `BertForSequenceClassification.forward` and have been ignored: text. If text are not expected by `BertForSequenceClassification.forward`,  you can safely ignore this message.\n",
      "***** Running Evaluation *****\n",
      "  Num examples = 1000\n",
      "  Batch size = 32\n",
      "Saving model checkpoint to ./data/checkpoint-900\n",
      "Configuration saved in ./data/checkpoint-900/config.json\n",
      "Model weights saved in ./data/checkpoint-900/pytorch_model.bin\n",
      "tokenizer config file saved in ./data/checkpoint-900/tokenizer_config.json\n",
      "Special tokens file saved in ./data/checkpoint-900/special_tokens_map.json\n",
      "Deleting older checkpoint [data/checkpoint-850] due to args.save_total_limit\n",
      "\n",
      "\n",
      "Training completed. Do not forget to share your model on huggingface.co/models =)\n",
      "\n",
      "\n",
      "Loading best model from ./data/checkpoint-200 (score: 0.8121922288151512).\n",
      "Deleting older checkpoint [data/checkpoint-200] due to args.save_total_limit\n",
      "Deleting older checkpoint [data/checkpoint-900] due to args.save_total_limit\n"
     ]
    },
    {
     "data": {
      "text/plain": [
       "TrainOutput(global_step=940, training_loss=0.2570740765713631, metrics={'train_runtime': 258.412, 'train_samples_per_second': 116.094, 'train_steps_per_second': 3.638, 'total_flos': 719360306362656.0, 'train_loss': 0.2570740765713631, 'epoch': 10.0})"
      ]
     },
     "execution_count": 28,
     "metadata": {},
     "output_type": "execute_result"
    }
   ],
   "source": [
    "trainer.train()"
   ]
  },
  {
   "cell_type": "markdown",
   "id": "3e885442",
   "metadata": {},
   "source": [
    "## Evaluate Model"
   ]
  },
  {
   "cell_type": "code",
   "execution_count": 30,
   "id": "62052d26",
   "metadata": {},
   "outputs": [
    {
     "name": "stderr",
     "output_type": "stream",
     "text": [
      "The following columns in the evaluation set don't have a corresponding argument in `BertForSequenceClassification.forward` and have been ignored: text. If text are not expected by `BertForSequenceClassification.forward`,  you can safely ignore this message.\n",
      "***** Running Evaluation *****\n",
      "  Num examples = 1000\n",
      "  Batch size = 32\n"
     ]
    },
    {
     "data": {
      "text/plain": [
       "{'eval_loss': 0.519856333732605,\n",
       " 'eval_f1': 0.8121922288151512,\n",
       " 'eval_runtime': 1.7249,\n",
       " 'eval_samples_per_second': 579.752,\n",
       " 'eval_steps_per_second': 18.552,\n",
       " 'epoch': 10.0}"
      ]
     },
     "execution_count": 30,
     "metadata": {},
     "output_type": "execute_result"
    }
   ],
   "source": [
    "trainer.evaluate()"
   ]
  },
  {
   "cell_type": "code",
   "execution_count": null,
   "id": "fb5cf187",
   "metadata": {},
   "outputs": [],
   "source": []
  }
 ],
 "metadata": {
  "kernelspec": {
   "display_name": "Python 3 (ipykernel)",
   "language": "python",
   "name": "python3"
  },
  "language_info": {
   "codemirror_mode": {
    "name": "ipython",
    "version": 3
   },
   "file_extension": ".py",
   "mimetype": "text/x-python",
   "name": "python",
   "nbconvert_exporter": "python",
   "pygments_lexer": "ipython3",
   "version": "3.10.6"
  }
 },
 "nbformat": 4,
 "nbformat_minor": 5
}

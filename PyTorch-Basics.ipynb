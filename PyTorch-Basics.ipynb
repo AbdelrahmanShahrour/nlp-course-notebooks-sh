{
 "cells": [
  {
   "cell_type": "code",
   "execution_count": null,
   "id": "02f4b7ab",
   "metadata": {},
   "outputs": [],
   "source": [
    "import os\n",
    "import numpy as np\n",
    "import torch"
   ]
  },
  {
   "cell_type": "markdown",
   "id": "dbf424d6",
   "metadata": {},
   "source": [
    "# PyTorch Basics"
   ]
  },
  {
   "cell_type": "markdown",
   "id": "9de399f9",
   "metadata": {},
   "source": [
    "## Creating tensors"
   ]
  },
  {
   "cell_type": "markdown",
   "id": "12b9472b",
   "metadata": {},
   "source": [
    "### Manually"
   ]
  },
  {
   "cell_type": "code",
   "execution_count": null,
   "id": "15eecfae",
   "metadata": {},
   "outputs": [],
   "source": [
    "a = torch.tensor([[1, 2], [3, 4]], dtype=torch.int64, requires_grad=False, device=\"cpu\", pin_memory=False)\n",
    "print(a)"
   ]
  },
  {
   "cell_type": "markdown",
   "id": "61c77a86",
   "metadata": {},
   "source": [
    "### From Numpy"
   ]
  },
  {
   "cell_type": "code",
   "execution_count": null,
   "id": "4e7f3aec",
   "metadata": {},
   "outputs": [],
   "source": [
    "a = np.random.randint(low=0, high=10, size=(5, 5)) \n",
    "a = torch.from_numpy(a)\n",
    "print(a)"
   ]
  },
  {
   "cell_type": "markdown",
   "id": "aac6fb13",
   "metadata": {},
   "source": [
    "### Generate Random "
   ]
  },
  {
   "cell_type": "code",
   "execution_count": null,
   "id": "b670b07d",
   "metadata": {},
   "outputs": [],
   "source": [
    "# Create random integers\n",
    "a = torch.randint(low=0, high=10, size=(5, 5))\n",
    "print(f\"Random Numbers:\\n{a}\\n\\n\")\n",
    "# Normal distribution\n",
    "a = torch.randn((5, 5))\n",
    "print(f\"Normal distribution:\\n{a}\\n\")"
   ]
  },
  {
   "cell_type": "markdown",
   "id": "ed5bf6ed",
   "metadata": {},
   "source": [
    "### Specifying the Data Type"
   ]
  },
  {
   "cell_type": "code",
   "execution_count": null,
   "id": "c0570a5e",
   "metadata": {},
   "outputs": [],
   "source": [
    "a = torch.randn((5, 5), dtype=torch.float64)\n",
    "print(f\"Random Float64:\\n{a}\\n\")\n",
    "\n",
    "a = torch.randn((5, 5), dtype=torch.float32)\n",
    "print(f\"Random Float32:\\n{a}\\n\")"
   ]
  },
  {
   "cell_type": "markdown",
   "id": "226ddff7",
   "metadata": {},
   "source": [
    "#### Question\n",
    "\n",
    "1. What's the difference between float64 and float32\n",
    "\n",
    "\n",
    "2. Why would you choose one over the other?"
   ]
  },
  {
   "cell_type": "markdown",
   "id": "5c1f7dc6",
   "metadata": {},
   "source": [
    "### Generate Zeros/Ones"
   ]
  },
  {
   "cell_type": "code",
   "execution_count": null,
   "id": "0f7ed2d1",
   "metadata": {},
   "outputs": [],
   "source": [
    "zeros = torch.zeros((5, 5, 5))\n",
    "print(f\"Zeros:\\n{zeros}\\n\\n\")\n",
    "\n",
    "ones = torch.ones((5, 5, 5))\n",
    "print(f\"Ones:\\n{ones}\")"
   ]
  },
  {
   "cell_type": "markdown",
   "id": "ca39286f",
   "metadata": {},
   "source": [
    "### Specify a Device"
   ]
  },
  {
   "cell_type": "markdown",
   "id": "e4b7094b",
   "metadata": {},
   "source": [
    "A device can either be the `CPU` (saved on RAM) or a `GPU` device (saved on its memory)\n",
    "\n",
    "`GPU` devices are denoted as `cuda:0` where the number following the cuda is the index of the GPU in case of multiple GPU devices available\n",
    "\n",
    "The following is a boilerplate code for determining the device to use\n"
   ]
  },
  {
   "cell_type": "code",
   "execution_count": null,
   "id": "d473bd88",
   "metadata": {},
   "outputs": [],
   "source": [
    "print(\"CUDA/GPU available:\", torch.cuda.is_available())"
   ]
  },
  {
   "cell_type": "code",
   "execution_count": null,
   "id": "42bef9cb",
   "metadata": {},
   "outputs": [],
   "source": [
    "device = torch.device(\"cuda\") if torch.cuda.is_available() else torch.device(\"cpu\")"
   ]
  },
  {
   "cell_type": "markdown",
   "id": "abcaa15d",
   "metadata": {},
   "source": [
    "#### Notes\n",
    "1. Specifying the device as `cuda` is the standard when using a single device, multi-gpu training is usually handled by PyTorch or other supporting frameworks and packages\n",
    "\n",
    "\n",
    "2. PyTorch isn't limited to `cpu` or `cuda` as the device, suches as openCl and openGl, ..etc. But keep in mind PyTorch can be slower on these devices and they're intended for special cases "
   ]
  },
  {
   "cell_type": "code",
   "execution_count": null,
   "id": "38b7c0cb",
   "metadata": {},
   "outputs": [],
   "source": [
    "a = torch.randn((5, 5, 5), device=device)\n",
    "print(a)"
   ]
  },
  {
   "cell_type": "markdown",
   "id": "17a37931",
   "metadata": {},
   "source": [
    "## Tensor Information"
   ]
  },
  {
   "cell_type": "markdown",
   "id": "c537042e",
   "metadata": {},
   "source": [
    "### Ndim and Shape"
   ]
  },
  {
   "cell_type": "code",
   "execution_count": null,
   "id": "c25ee47a",
   "metadata": {},
   "outputs": [],
   "source": [
    "a = torch.randn((5, 5, 5), dtype=torch.float32)"
   ]
  },
  {
   "cell_type": "code",
   "execution_count": null,
   "id": "929eef6c",
   "metadata": {},
   "outputs": [],
   "source": [
    "print(f\"ndmin:{a.ndim}\")\n",
    "print(f\"shape:{a.shape}\")"
   ]
  },
  {
   "cell_type": "markdown",
   "id": "b2fb0f41",
   "metadata": {},
   "source": [
    "### Single value tensors"
   ]
  },
  {
   "cell_type": "code",
   "execution_count": null,
   "id": "53be7816",
   "metadata": {},
   "outputs": [],
   "source": [
    "a = torch.tensor(7)\n",
    "\n",
    "print(f\"Tensor:{a}\\tType:{type(a)}\")\n",
    "print(f\"Value:{a.item()}\\tType:{type(a.item())}\")"
   ]
  },
  {
   "cell_type": "markdown",
   "id": "0616ff3d",
   "metadata": {},
   "source": [
    "### Data Type"
   ]
  },
  {
   "cell_type": "code",
   "execution_count": null,
   "id": "d356c4e2",
   "metadata": {},
   "outputs": [],
   "source": [
    "a.dtype"
   ]
  },
  {
   "cell_type": "markdown",
   "id": "666d406d",
   "metadata": {},
   "source": [
    "### Device"
   ]
  },
  {
   "cell_type": "code",
   "execution_count": null,
   "id": "3ca61016",
   "metadata": {},
   "outputs": [],
   "source": [
    "a.device"
   ]
  },
  {
   "cell_type": "code",
   "execution_count": null,
   "id": "9d49552d",
   "metadata": {},
   "outputs": [],
   "source": []
  }
 ],
 "metadata": {
  "kernelspec": {
   "display_name": "Python 3 (ipykernel)",
   "language": "python",
   "name": "python3"
  },
  "language_info": {
   "codemirror_mode": {
    "name": "ipython",
    "version": 3
   },
   "file_extension": ".py",
   "mimetype": "text/x-python",
   "name": "python",
   "nbconvert_exporter": "python",
   "pygments_lexer": "ipython3",
   "version": "3.10.4"
  }
 },
 "nbformat": 4,
 "nbformat_minor": 5
}

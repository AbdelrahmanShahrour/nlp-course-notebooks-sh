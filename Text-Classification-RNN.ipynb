{
 "cells": [
  {
   "cell_type": "code",
   "execution_count": 3,
   "id": "9ea40c5f",
   "metadata": {},
   "outputs": [],
   "source": [
    "import os\n",
    "import json\n",
    "\n",
    "import torch\n",
    "\n",
    "import numpy as np\n",
    "import pandas as pd\n",
    "\n",
    "from torch import nn"
   ]
  },
  {
   "cell_type": "markdown",
   "id": "3ffdaa66",
   "metadata": {},
   "source": [
    "# Setup"
   ]
  },
  {
   "cell_type": "code",
   "execution_count": 4,
   "id": "f2edafab",
   "metadata": {},
   "outputs": [],
   "source": [
    "data_dir = os.path.join(os.curdir, \"data\")\n",
    "vocab_path = os.path.join(data_dir, \"word-level-vocab.json\")\n",
    "dataset_path = os.path.join(data_dir, \"clean-tweets.tsv\")\n",
    "\n",
    "with open(vocab_path, \"rt\") as f:\n",
    "    vocab = json.load(f)\n",
    "    \n",
    "dataset = pd.read_csv(filepath_or_buffer=dataset_path, sep=\"\\t\")"
   ]
  },
  {
   "cell_type": "code",
   "execution_count": 5,
   "id": "975f8462",
   "metadata": {},
   "outputs": [],
   "source": [
    "tweets = dataset[\"clean_text\"].tolist()"
   ]
  },
  {
   "cell_type": "code",
   "execution_count": 6,
   "id": "189bb3f3",
   "metadata": {},
   "outputs": [
    {
     "name": "stdout",
     "output_type": "stream",
     "text": [
      "Vocab Size = 10998\n"
     ]
    }
   ],
   "source": [
    "OOV_TOKEN = \"[OOV]\"\n",
    "PAD_TOKEN = \"[PAD]\"\n",
    "\n",
    "OOV_INDEX = vocab.get(OOV_TOKEN)\n",
    "\n",
    "print(f\"Vocab Size = {len(vocab)}\")"
   ]
  },
  {
   "cell_type": "code",
   "execution_count": 35,
   "id": "e79f4714",
   "metadata": {},
   "outputs": [],
   "source": [
    "tokenized_tweets = [[vocab.get(token) for token in tweet.split(\" \") if token in vocab] for tweet in tweets]"
   ]
  },
  {
   "cell_type": "code",
   "execution_count": 30,
   "id": "9b066def",
   "metadata": {},
   "outputs": [],
   "source": [
    "device = torch.device('cuda' if torch.cuda.is_available() else 'cpu')"
   ]
  },
  {
   "cell_type": "code",
   "execution_count": 31,
   "id": "020ac0a4",
   "metadata": {},
   "outputs": [],
   "source": [
    "tokenized_tweets = [torch.tensor(tweet) for tweet in tokenized_tweets]\n",
    "tokenized_tweets = nn.utils.rnn.pad_sequence(tokenized_tweets, batch_first=True)"
   ]
  },
  {
   "cell_type": "code",
   "execution_count": null,
   "id": "3d8b0208",
   "metadata": {},
   "outputs": [],
   "source": []
  }
 ],
 "metadata": {
  "kernelspec": {
   "display_name": "Python 3 (ipykernel)",
   "language": "python",
   "name": "python3"
  },
  "language_info": {
   "codemirror_mode": {
    "name": "ipython",
    "version": 3
   },
   "file_extension": ".py",
   "mimetype": "text/x-python",
   "name": "python",
   "nbconvert_exporter": "python",
   "pygments_lexer": "ipython3",
   "version": "3.10.6"
  }
 },
 "nbformat": 4,
 "nbformat_minor": 5
}

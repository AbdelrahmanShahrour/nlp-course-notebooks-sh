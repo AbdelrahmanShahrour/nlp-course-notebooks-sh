{
 "cells": [
  {
   "cell_type": "code",
   "execution_count": 2,
   "id": "d3dd610b",
   "metadata": {},
   "outputs": [],
   "source": [
    "from typing import Callable"
   ]
  },
  {
   "cell_type": "code",
   "execution_count": 3,
   "id": "9f2be46b",
   "metadata": {},
   "outputs": [],
   "source": [
    "tweet = 'هدف لا نراه كل يوم . #LEITOT . @oki_q8e شوف ابن اختي شوف 🤗 https://t.co/ZmVMl4sOqA'"
   ]
  },
  {
   "cell_type": "code",
   "execution_count": 4,
   "id": "d9d2ee3d",
   "metadata": {},
   "outputs": [
    {
     "data": {
      "text/plain": [
       "'هدف لا نراه كل يوم . #LEITOT . @oki_q8e شوف ابن اختي شوف 🤗 https://t.co/ZmVMl4sOqA'"
      ]
     },
     "execution_count": 4,
     "metadata": {},
     "output_type": "execute_result"
    }
   ],
   "source": [
    "tweet"
   ]
  },
  {
   "cell_type": "markdown",
   "id": "3b8bb394",
   "metadata": {},
   "source": [
    "## Stop Word"
   ]
  },
  {
   "cell_type": "code",
   "execution_count": 40,
   "id": "0362716f",
   "metadata": {},
   "outputs": [],
   "source": [
    "def removestopword(Lang:'A' or 'E', text:str) -> str:\n",
    "    import nltk\n",
    "    from nltk.corpus import stopwords\n",
    "    if Lang == \"A\":\n",
    "        sw = stopwords.words('arabic')\n",
    "    else:\n",
    "        sw = stopwords.words('english')\n",
    "    return \" \".join([word for word in text.split(\" \") if word not in sw])"
   ]
  },
  {
   "cell_type": "code",
   "execution_count": 41,
   "id": "f694674b",
   "metadata": {},
   "outputs": [
    {
     "data": {
      "text/plain": [
       "'هدف نراه يوم . #LEITOT . @oki_q8e شوف ابن اختي شوف 🤗 https://t.co/ZmVMl4sOqA'"
      ]
     },
     "execution_count": 41,
     "metadata": {},
     "output_type": "execute_result"
    }
   ],
   "source": [
    "removestopword(Lang='A',text = tweet)"
   ]
  },
  {
   "cell_type": "markdown",
   "id": "c0d62773",
   "metadata": {},
   "source": [
    "## Remove Hashtags\n"
   ]
  },
  {
   "cell_type": "code",
   "execution_count": 8,
   "id": "f19fce1e",
   "metadata": {},
   "outputs": [],
   "source": [
    "import re\n",
    "def remove_hashtag(text: str) -> str:\n",
    "    return re.sub(r\"#.*?(?=\\s)\", \"\", string=text)"
   ]
  },
  {
   "cell_type": "code",
   "execution_count": 9,
   "id": "5f124849",
   "metadata": {},
   "outputs": [
    {
     "data": {
      "text/plain": [
       "'هدف لا نراه كل يوم .  . @oki_q8e شوف ابن اختي شوف 🤗 https://t.co/ZmVMl4sOqA'"
      ]
     },
     "execution_count": 9,
     "metadata": {},
     "output_type": "execute_result"
    }
   ],
   "source": [
    "remove_hashtag(tweet)"
   ]
  },
  {
   "cell_type": "markdown",
   "id": "5940009f",
   "metadata": {},
   "source": [
    "## Remove Mention\n"
   ]
  },
  {
   "cell_type": "code",
   "execution_count": 10,
   "id": "b2cce557",
   "metadata": {},
   "outputs": [],
   "source": [
    "def remove_mentions(text: str) -> str:\n",
    "    return re.sub(r\" @[\\w_]+ | @[\\w_]+|^@[\\w_]+ \", \" \", string = text)"
   ]
  },
  {
   "cell_type": "code",
   "execution_count": 11,
   "id": "836ee594",
   "metadata": {},
   "outputs": [
    {
     "data": {
      "text/plain": [
       "'هدف لا نراه كل يوم . #LEITOT . شوف ابن اختي شوف 🤗 https://t.co/ZmVMl4sOqA'"
      ]
     },
     "execution_count": 11,
     "metadata": {},
     "output_type": "execute_result"
    }
   ],
   "source": [
    "remove_mentions(tweet)"
   ]
  },
  {
   "cell_type": "markdown",
   "id": "0b87b6d9",
   "metadata": {},
   "source": [
    "## Remove HTTP URLs"
   ]
  },
  {
   "cell_type": "code",
   "execution_count": 12,
   "id": "b89efad0",
   "metadata": {},
   "outputs": [],
   "source": [
    "def remove_links(text: str) -> str:\n",
    "    return re.sub(\"http[s]?://\\S+|[wW]{3,}[\\S/\\?=\\.&]+\", \"\", string=text)"
   ]
  },
  {
   "cell_type": "code",
   "execution_count": 13,
   "id": "33528962",
   "metadata": {},
   "outputs": [
    {
     "data": {
      "text/plain": [
       "'هدف لا نراه كل يوم . #LEITOT . @oki_q8e شوف ابن اختي شوف 🤗 '"
      ]
     },
     "execution_count": 13,
     "metadata": {},
     "output_type": "execute_result"
    }
   ],
   "source": [
    "remove_links(tweet)"
   ]
  },
  {
   "cell_type": "markdown",
   "id": "3a2ac538",
   "metadata": {},
   "source": [
    "## Remove Punctuation Marks"
   ]
  },
  {
   "cell_type": "code",
   "execution_count": 14,
   "id": "ebfd003d",
   "metadata": {},
   "outputs": [],
   "source": [
    "def remove_punctation(text: str) -> str:\n",
    "    return re.sub(r\"\"\"[!\"#$%&\\'()*+,-./:;<=>?@[\\\\\\]^_`{|}~،؟…«“\\\":\\\"…”]\"\"\",\"\", string=text)"
   ]
  },
  {
   "cell_type": "code",
   "execution_count": 15,
   "id": "6e4e0982",
   "metadata": {},
   "outputs": [
    {
     "data": {
      "text/plain": [
       "'هدف لا نراه كل يوم  LEITOT  okiq8e شوف ابن اختي شوف 🤗 httpstcoZmVMl4sOqA'"
      ]
     },
     "execution_count": 15,
     "metadata": {},
     "output_type": "execute_result"
    }
   ],
   "source": [
    "remove_punctation(tweet)"
   ]
  },
  {
   "cell_type": "markdown",
   "id": "86245808",
   "metadata": {},
   "source": [
    "# keep text only"
   ]
  },
  {
   "cell_type": "code",
   "execution_count": 16,
   "id": "d5fce164",
   "metadata": {},
   "outputs": [],
   "source": [
    "def keep_text(text:str) -> str:\n",
    "    ARABIC_CHARS = \" دجحإﻹﻷأآﻵخهعغفقثصضذطكمنتالبيسشظزوةىﻻرؤءئ\"\n",
    "    ENGLISH_CHARS = \"ABCDEFGHIJKLMNOPQRSTUVWXYZabcdefghijklmnopqrstuvwxyz\"\n",
    "    chars = [char for char in text if (char in ARABIC_CHARS) or (char in ENGLISH_CHARS)]\n",
    "    return ''.join(chars)"
   ]
  },
  {
   "cell_type": "code",
   "execution_count": 17,
   "id": "883d8232",
   "metadata": {},
   "outputs": [
    {
     "data": {
      "text/plain": [
       "'هدف لا نراه كل يوم  LEITOT  okiqe شوف ابن اختي شوف  httpstcoZmVMlsOqA'"
      ]
     },
     "execution_count": 17,
     "metadata": {},
     "output_type": "execute_result"
    }
   ],
   "source": [
    "keep_text(tweet)"
   ]
  },
  {
   "cell_type": "markdown",
   "id": "a9f333bb",
   "metadata": {},
   "source": [
    "## Remove Diactrics\n"
   ]
  },
  {
   "cell_type": "code",
   "execution_count": 36,
   "id": "f9b1bed9",
   "metadata": {},
   "outputs": [],
   "source": [
    "def remove_diactrics(text:str) -> str:\n",
    "    return re.sub('([\\u064B-\\u0652\\u06D4\\u0670\\u0674\\u06D5-\\u06ED]+)', '', string=text)"
   ]
  },
  {
   "cell_type": "code",
   "execution_count": 37,
   "id": "de67ff8c",
   "metadata": {},
   "outputs": [
    {
     "data": {
      "text/plain": [
       "'هدف لا نراه كل يوم . #LEITOT . @oki_q8e شوف ابن اختي شوف 🤗 https://t.co/ZmVMl4sOqA'"
      ]
     },
     "execution_count": 37,
     "metadata": {},
     "output_type": "execute_result"
    }
   ],
   "source": [
    "remove_diactrics(tweet)"
   ]
  },
  {
   "cell_type": "markdown",
   "id": "4303368d",
   "metadata": {},
   "source": [
    "## Remove Numbers"
   ]
  },
  {
   "cell_type": "code",
   "execution_count": 22,
   "id": "ad1de43b",
   "metadata": {},
   "outputs": [],
   "source": [
    "def remove_numbers(text: str) -> str:\n",
    "    return re.sub(\"\\d\",\"\", string=text)"
   ]
  },
  {
   "cell_type": "code",
   "execution_count": 23,
   "id": "777def09",
   "metadata": {},
   "outputs": [
    {
     "data": {
      "text/plain": [
       "'هدف لا نراه كل يوم . #LEITOT . @oki_qe شوف ابن اختي شوف 🤗 https://t.co/ZmVMlsOqA'"
      ]
     },
     "execution_count": 23,
     "metadata": {},
     "output_type": "execute_result"
    }
   ],
   "source": [
    "remove_numbers(tweet)"
   ]
  },
  {
   "cell_type": "markdown",
   "id": "a3a7a815",
   "metadata": {},
   "source": [
    "## Remove English Characters\n"
   ]
  },
  {
   "cell_type": "code",
   "execution_count": 24,
   "id": "a8306471",
   "metadata": {},
   "outputs": [],
   "source": [
    "def remove_english_characters(text: str) -> str:\n",
    "    return re.sub(\"[A-Za-z]\",\"\", string=text)"
   ]
  },
  {
   "cell_type": "code",
   "execution_count": 25,
   "id": "f8a97286",
   "metadata": {},
   "outputs": [
    {
     "data": {
      "text/plain": [
       "'هدف لا نراه كل يوم . # . @_8 شوف ابن اختي شوف 🤗 ://./4'"
      ]
     },
     "execution_count": 25,
     "metadata": {},
     "output_type": "execute_result"
    }
   ],
   "source": [
    "remove_english_characters(tweet)"
   ]
  },
  {
   "cell_type": "markdown",
   "id": "8d5267f1",
   "metadata": {},
   "source": [
    "## Add Space Around Emojis\n"
   ]
  },
  {
   "cell_type": "code",
   "execution_count": 1,
   "id": "3b95cb4e",
   "metadata": {
    "collapsed": true
   },
   "outputs": [
    {
     "ename": "ModuleNotFoundError",
     "evalue": "No module named 'maha'",
     "output_type": "error",
     "traceback": [
      "\u001b[1;31m---------------------------------------------------------------------------\u001b[0m",
      "\u001b[1;31mModuleNotFoundError\u001b[0m                       Traceback (most recent call last)",
      "\u001b[1;32m~\\AppData\\Local\\Temp/ipykernel_16832/1281525259.py\u001b[0m in \u001b[0;36m<module>\u001b[1;34m\u001b[0m\n\u001b[1;32m----> 1\u001b[1;33m \u001b[1;32mfrom\u001b[0m \u001b[0mmaha\u001b[0m\u001b[1;33m.\u001b[0m\u001b[0mexpressions\u001b[0m\u001b[1;33m.\u001b[0m\u001b[0mgeneral\u001b[0m \u001b[1;32mimport\u001b[0m \u001b[0mEXPRESSION_EMOJIS\u001b[0m\u001b[1;33m\u001b[0m\u001b[1;33m\u001b[0m\u001b[0m\n\u001b[0m\u001b[0;32m      2\u001b[0m \u001b[1;33m\u001b[0m\u001b[0m\n\u001b[0;32m      3\u001b[0m \u001b[0memojis_regex\u001b[0m \u001b[1;33m=\u001b[0m \u001b[0mre\u001b[0m\u001b[1;33m.\u001b[0m\u001b[0mcompile\u001b[0m\u001b[1;33m(\u001b[0m\u001b[0mEXPRESSION_EMOJIS\u001b[0m\u001b[1;33m.\u001b[0m\u001b[0mpattern\u001b[0m\u001b[1;33m)\u001b[0m\u001b[1;33m\u001b[0m\u001b[1;33m\u001b[0m\u001b[0m\n\u001b[0;32m      4\u001b[0m \u001b[1;33m\u001b[0m\u001b[0m\n\u001b[0;32m      5\u001b[0m \u001b[1;33m\u001b[0m\u001b[0m\n",
      "\u001b[1;31mModuleNotFoundError\u001b[0m: No module named 'maha'"
     ]
    }
   ],
   "source": [
    "from maha.expressions.general import EXPRESSION_EMOJIS\n",
    "\n",
    "emojis_regex = re.compile(EXPRESSION_EMOJIS.pattern) \n",
    "\n",
    "\n",
    "def space_around_emojis(text: str) -> str:\n",
    "    chars = [' ' + char + ' ' if emojis_regex.match(char) else char for char in text]\n",
    "    return ''.join(chars)\n",
    "    \n",
    "test_clean_fn(space_around_emojis, \"طبعا😂✋🏻🌹🌹🌹\")"
   ]
  },
  {
   "cell_type": "markdown",
   "id": "d9c78c46",
   "metadata": {},
   "source": [
    "# Remove emoji"
   ]
  },
  {
   "cell_type": "code",
   "execution_count": 26,
   "id": "3f20e874",
   "metadata": {},
   "outputs": [],
   "source": [
    "def remove_emojis(text: str) -> str:\n",
    "    w = re.compile('[\\u00a9|\\u00ae]|[\\u2000-\\u3300]|\\ud83c[\\ud000-\\udfff]|\\ud83d[\\ud000-\\udfff]|\\ud83e[\\ud000-\\udfff]', re.UNICODE)\n",
    "    return re.sub(repl=\"\", string=tweet)"
   ]
  },
  {
   "cell_type": "code",
   "execution_count": 27,
   "id": "66719f1a",
   "metadata": {},
   "outputs": [
    {
     "data": {
      "text/plain": [
       "'هدف لا نراه كل يوم . #LEITOT . @oki_q8e شوف ابن اختي شوف 🤗 https://t.co/ZmVMl4sOqA'"
      ]
     },
     "execution_count": 27,
     "metadata": {},
     "output_type": "execute_result"
    }
   ],
   "source": [
    "remove_emojis(tweet)"
   ]
  },
  {
   "cell_type": "markdown",
   "id": "c592f8d9",
   "metadata": {},
   "source": [
    "## Remove Multiple Whitespace\n"
   ]
  },
  {
   "cell_type": "code",
   "execution_count": 48,
   "id": "62c1e323",
   "metadata": {},
   "outputs": [],
   "source": [
    "def remove_extra_spaces(text: str, keep_spaces=1) -> str:\n",
    "    return re.sub(\" +\", \" \" * keep_spaces, \"\".join(text))"
   ]
  },
  {
   "cell_type": "code",
   "execution_count": 49,
   "id": "843c2cf6",
   "metadata": {},
   "outputs": [
    {
     "data": {
      "text/plain": [
       "'ff ff ff'"
      ]
     },
     "execution_count": 49,
     "metadata": {},
     "output_type": "execute_result"
    }
   ],
   "source": [
    "remove_extra_spaces(\"ff       ff  ff\")"
   ]
  },
  {
   "cell_type": "markdown",
   "id": "ee3ba67d",
   "metadata": {},
   "source": [
    "## Clean All"
   ]
  },
  {
   "cell_type": "code",
   "execution_count": 69,
   "id": "b4f99a98",
   "metadata": {},
   "outputs": [],
   "source": [
    "def clean_all(text: str) -> str:\n",
    "    original_text = text\n",
    "    text = remove_links(text)\n",
    "    text = remove_hashtag(text)\n",
    "    text = remove_mentions(text)\n",
    "    text = remove_punctation(text)\n",
    "    text = remove_numbers(text)\n",
    "    text = remove_diactrics(text)\n",
    "    text = remove_english_characters(text)\n",
    "    text = removestopword('A',text)\n",
    "    text = remove_extra_spaces(text)\n",
    "    text = keep_text(text)\n",
    "    text = text.strip()\n",
    "    print(f'input text : {original_text}\\noutput     : {text}')"
   ]
  },
  {
   "cell_type": "code",
   "execution_count": 70,
   "id": "1c603e60",
   "metadata": {},
   "outputs": [
    {
     "name": "stdout",
     "output_type": "stream",
     "text": [
      "input text : هدف لا نراه كل يوم . #LEITOT . @oki_q8e شوف ابن اختي شوف 🤗 https://t.co/ZmVMl4sOqA\n",
      "output     : هدف نراه يوم شوف ابن اختي شوف\n"
     ]
    }
   ],
   "source": [
    "clean_all(tweet)"
   ]
  },
  {
   "cell_type": "code",
   "execution_count": null,
   "id": "d50d6881",
   "metadata": {},
   "outputs": [],
   "source": []
  }
 ],
 "metadata": {
  "kernelspec": {
   "display_name": "Python 3 (ipykernel)",
   "language": "python",
   "name": "python3"
  },
  "language_info": {
   "codemirror_mode": {
    "name": "ipython",
    "version": 3
   },
   "file_extension": ".py",
   "mimetype": "text/x-python",
   "name": "python",
   "nbconvert_exporter": "python",
   "pygments_lexer": "ipython3",
   "version": "3.9.7"
  }
 },
 "nbformat": 4,
 "nbformat_minor": 5
}
